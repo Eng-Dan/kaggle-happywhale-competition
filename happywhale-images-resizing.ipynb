{
 "cells": [
  {
   "cell_type": "markdown",
   "id": "8380d197",
   "metadata": {
    "papermill": {
     "duration": 0.014902,
     "end_time": "2022-03-17T00:03:48.091822",
     "exception": false,
     "start_time": "2022-03-17T00:03:48.076920",
     "status": "completed"
    },
    "tags": []
   },
   "source": [
    "# Basic packages and libraries used"
   ]
  },
  {
   "cell_type": "code",
   "execution_count": 1,
   "id": "984c4481",
   "metadata": {
    "execution": {
     "iopub.execute_input": "2022-03-17T00:03:48.117609Z",
     "iopub.status.busy": "2022-03-17T00:03:48.116356Z",
     "iopub.status.idle": "2022-03-17T00:03:48.483057Z",
     "shell.execute_reply": "2022-03-17T00:03:48.482308Z",
     "shell.execute_reply.started": "2022-03-16T23:18:50.587445Z"
    },
    "papermill": {
     "duration": 0.380306,
     "end_time": "2022-03-17T00:03:48.483229",
     "exception": false,
     "start_time": "2022-03-17T00:03:48.102923",
     "status": "completed"
    },
    "tags": []
   },
   "outputs": [],
   "source": [
    "import os # to navigate and manipulate directories.\n",
    "import cv2 # to read, resize and save images."
   ]
  },
  {
   "cell_type": "markdown",
   "id": "cd4f5f37",
   "metadata": {
    "papermill": {
     "duration": 0.008998,
     "end_time": "2022-03-17T00:03:48.501626",
     "exception": false,
     "start_time": "2022-03-17T00:03:48.492628",
     "status": "completed"
    },
    "tags": []
   },
   "source": [
    "First step is creating a folder to save the resized images within Kaggle Kernel output directory."
   ]
  },
  {
   "cell_type": "code",
   "execution_count": 2,
   "id": "0e0670e3",
   "metadata": {
    "execution": {
     "iopub.execute_input": "2022-03-17T00:03:48.525116Z",
     "iopub.status.busy": "2022-03-17T00:03:48.524378Z",
     "iopub.status.idle": "2022-03-17T00:03:48.526592Z",
     "shell.execute_reply": "2022-03-17T00:03:48.527028Z",
     "shell.execute_reply.started": "2022-03-16T23:18:59.414322Z"
    },
    "papermill": {
     "duration": 0.016466,
     "end_time": "2022-03-17T00:03:48.527188",
     "exception": false,
     "start_time": "2022-03-17T00:03:48.510722",
     "status": "completed"
    },
    "tags": []
   },
   "outputs": [],
   "source": [
    "os.makedirs('./resized_train_images')"
   ]
  },
  {
   "cell_type": "markdown",
   "id": "96923e6a",
   "metadata": {
    "papermill": {
     "duration": 0.008922,
     "end_time": "2022-03-17T00:03:48.545231",
     "exception": false,
     "start_time": "2022-03-17T00:03:48.536309",
     "status": "completed"
    },
    "tags": []
   },
   "source": [
    "Now, lets just assign the directories to path variables."
   ]
  },
  {
   "cell_type": "code",
   "execution_count": 3,
   "id": "859f96a6",
   "metadata": {
    "execution": {
     "iopub.execute_input": "2022-03-17T00:03:48.568885Z",
     "iopub.status.busy": "2022-03-17T00:03:48.567827Z",
     "iopub.status.idle": "2022-03-17T00:03:48.570310Z",
     "shell.execute_reply": "2022-03-17T00:03:48.570818Z",
     "shell.execute_reply.started": "2022-03-16T23:19:03.226562Z"
    },
    "papermill": {
     "duration": 0.016645,
     "end_time": "2022-03-17T00:03:48.570983",
     "exception": false,
     "start_time": "2022-03-17T00:03:48.554338",
     "status": "completed"
    },
    "tags": []
   },
   "outputs": [],
   "source": [
    "TRAIN_IMAGES_DIR = '../input/happy-whale-and-dolphin/train_images'\n",
    "RESIZED_TRAIN_IMAGES_DIR = './resized_train_images'"
   ]
  },
  {
   "cell_type": "markdown",
   "id": "6ddfa50e",
   "metadata": {
    "papermill": {
     "duration": 0.008898,
     "end_time": "2022-03-17T00:03:48.588940",
     "exception": false,
     "start_time": "2022-03-17T00:03:48.580042",
     "status": "completed"
    },
    "tags": []
   },
   "source": [
    "The function bellow will help to run and debug the resizing and saving operation if needed."
   ]
  },
  {
   "cell_type": "code",
   "execution_count": 4,
   "id": "baa5a9d0",
   "metadata": {
    "execution": {
     "iopub.execute_input": "2022-03-17T00:03:48.615839Z",
     "iopub.status.busy": "2022-03-17T00:03:48.609917Z",
     "iopub.status.idle": "2022-03-17T00:03:48.619286Z",
     "shell.execute_reply": "2022-03-17T00:03:48.618677Z",
     "shell.execute_reply.started": "2022-03-16T23:25:35.656219Z"
    },
    "papermill": {
     "duration": 0.021469,
     "end_time": "2022-03-17T00:03:48.619416",
     "exception": false,
     "start_time": "2022-03-17T00:03:48.597947",
     "status": "completed"
    },
    "tags": []
   },
   "outputs": [],
   "source": [
    "def resize_and_save(source_dir, destination_dir, resize_to, gray_scale=False):\n",
    "    for dirpath, dirnames, filenames in os.walk(source_dir):\n",
    "        num_images = len(filenames)\n",
    "        print('Found:', num_images, 'files in:', dirpath)\n",
    "        \n",
    "        print('Start of execution')\n",
    "        counter = 0\n",
    "        for name in filenames:\n",
    "            original_image_path = os.path.join(dirpath, name)\n",
    "            \n",
    "            if gray_scale:\n",
    "                original_image = cv2.imread(original_image_path, cv2.IMREAD_GRAYSCALE)\n",
    "            else:\n",
    "                original_image = cv2.imread(original_image_path)\n",
    "            \n",
    "            resized_image = cv2.resize(original_image, (resize_to, resize_to))\n",
    "            \n",
    "            cv2.imwrite(os.path.join(destination_dir, name), resized_image)\n",
    "            \n",
    "            counter += 1\n",
    "            \n",
    "            if (counter % 1000) == 0:\n",
    "                print('Saved', counter, 'of', num_images, 'images')\n",
    "                \n",
    "    print('End of execution')"
   ]
  },
  {
   "cell_type": "markdown",
   "id": "3eafadcd",
   "metadata": {
    "papermill": {
     "duration": 0.008741,
     "end_time": "2022-03-17T00:03:48.637325",
     "exception": false,
     "start_time": "2022-03-17T00:03:48.628584",
     "status": "completed"
    },
    "tags": []
   },
   "source": [
    "Now, just need to run our `resize_and_save` function"
   ]
  },
  {
   "cell_type": "code",
   "execution_count": 5,
   "id": "c5c1d78f",
   "metadata": {
    "execution": {
     "iopub.execute_input": "2022-03-17T00:03:48.660034Z",
     "iopub.status.busy": "2022-03-17T00:03:48.659293Z",
     "iopub.status.idle": "2022-03-17T00:38:10.035788Z",
     "shell.execute_reply": "2022-03-17T00:38:10.036749Z",
     "shell.execute_reply.started": "2022-03-16T23:25:39.348953Z"
    },
    "papermill": {
     "duration": 2061.39145,
     "end_time": "2022-03-17T00:38:10.037888",
     "exception": false,
     "start_time": "2022-03-17T00:03:48.646438",
     "status": "completed"
    },
    "tags": []
   },
   "outputs": [
    {
     "name": "stdout",
     "output_type": "stream",
     "text": [
      "Found: 51033 files in: ../input/happy-whale-and-dolphin/train_images\n",
      "Start of execution\n",
      "Saved 1000 of 51033 images\n",
      "Saved 2000 of 51033 images\n",
      "Saved 3000 of 51033 images\n",
      "Saved 4000 of 51033 images\n",
      "Saved 5000 of 51033 images\n",
      "Saved 6000 of 51033 images\n",
      "Saved 7000 of 51033 images\n",
      "Saved 8000 of 51033 images\n",
      "Saved 9000 of 51033 images\n",
      "Saved 10000 of 51033 images\n",
      "Saved 11000 of 51033 images\n",
      "Saved 12000 of 51033 images\n",
      "Saved 13000 of 51033 images\n",
      "Saved 14000 of 51033 images\n",
      "Saved 15000 of 51033 images\n",
      "Saved 16000 of 51033 images\n",
      "Saved 17000 of 51033 images\n",
      "Saved 18000 of 51033 images\n",
      "Saved 19000 of 51033 images\n",
      "Saved 20000 of 51033 images\n",
      "Saved 21000 of 51033 images\n",
      "Saved 22000 of 51033 images\n",
      "Saved 23000 of 51033 images\n",
      "Saved 24000 of 51033 images\n",
      "Saved 25000 of 51033 images\n",
      "Saved 26000 of 51033 images\n",
      "Saved 27000 of 51033 images\n",
      "Saved 28000 of 51033 images\n",
      "Saved 29000 of 51033 images\n",
      "Saved 30000 of 51033 images\n",
      "Saved 31000 of 51033 images\n",
      "Saved 32000 of 51033 images\n",
      "Saved 33000 of 51033 images\n",
      "Saved 34000 of 51033 images\n",
      "Saved 35000 of 51033 images\n",
      "Saved 36000 of 51033 images\n",
      "Saved 37000 of 51033 images\n",
      "Saved 38000 of 51033 images\n",
      "Saved 39000 of 51033 images\n",
      "Saved 40000 of 51033 images\n",
      "Saved 41000 of 51033 images\n",
      "Saved 42000 of 51033 images\n",
      "Saved 43000 of 51033 images\n",
      "Saved 44000 of 51033 images\n",
      "Saved 45000 of 51033 images\n",
      "Saved 46000 of 51033 images\n",
      "Saved 47000 of 51033 images\n",
      "Saved 48000 of 51033 images\n",
      "Saved 49000 of 51033 images\n",
      "Saved 50000 of 51033 images\n",
      "Saved 51000 of 51033 images\n",
      "End of execution\n"
     ]
    }
   ],
   "source": [
    "resize_and_save(TRAIN_IMAGES_DIR, RESIZED_TRAIN_IMAGES_DIR, 256, gray_scale=True)"
   ]
  }
 ],
 "metadata": {
  "kernelspec": {
   "display_name": "Python 3",
   "language": "python",
   "name": "python3"
  },
  "language_info": {
   "codemirror_mode": {
    "name": "ipython",
    "version": 3
   },
   "file_extension": ".py",
   "mimetype": "text/x-python",
   "name": "python",
   "nbconvert_exporter": "python",
   "pygments_lexer": "ipython3",
   "version": "3.7.12"
  },
  "papermill": {
   "default_parameters": {},
   "duration": 2073.184106,
   "end_time": "2022-03-17T00:38:11.092089",
   "environment_variables": {},
   "exception": null,
   "input_path": "__notebook__.ipynb",
   "output_path": "__notebook__.ipynb",
   "parameters": {},
   "start_time": "2022-03-17T00:03:37.907983",
   "version": "2.3.3"
  }
 },
 "nbformat": 4,
 "nbformat_minor": 5
}
