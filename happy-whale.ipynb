{
 "cells": [
  {
   "cell_type": "code",
   "execution_count": 1,
   "id": "d64cb64b",
   "metadata": {
    "_cell_guid": "b1076dfc-b9ad-4769-8c92-a6c4dae69d19",
    "_uuid": "8f2839f25d086af736a60e9eeb907d3b93b6e0e5",
    "execution": {
     "iopub.execute_input": "2022-03-09T01:48:57.269722Z",
     "iopub.status.busy": "2022-03-09T01:48:57.268541Z",
     "iopub.status.idle": "2022-03-09T01:48:57.274968Z",
     "shell.execute_reply": "2022-03-09T01:48:57.275538Z",
     "shell.execute_reply.started": "2022-03-09T01:38:27.077337Z"
    },
    "papermill": {
     "duration": 0.02393,
     "end_time": "2022-03-09T01:48:57.275871",
     "exception": false,
     "start_time": "2022-03-09T01:48:57.251941",
     "status": "completed"
    },
    "tags": []
   },
   "outputs": [],
   "source": [
    "import numpy as np # linear algebra\n",
    "import pandas as pd # data processing, CSV file I/O (e.g. pd.read_csv)"
   ]
  },
  {
   "cell_type": "code",
   "execution_count": 2,
   "id": "eeb49848",
   "metadata": {
    "execution": {
     "iopub.execute_input": "2022-03-09T01:48:57.314956Z",
     "iopub.status.busy": "2022-03-09T01:48:57.314299Z",
     "iopub.status.idle": "2022-03-09T01:48:58.345409Z",
     "shell.execute_reply": "2022-03-09T01:48:58.344952Z",
     "shell.execute_reply.started": "2022-03-09T01:38:27.107035Z"
    },
    "papermill": {
     "duration": 1.051475,
     "end_time": "2022-03-09T01:48:58.345519",
     "exception": false,
     "start_time": "2022-03-09T01:48:57.294044",
     "status": "completed"
    },
    "tags": []
   },
   "outputs": [],
   "source": [
    "import matplotlib.pyplot as plt\n",
    "import seaborn as sns"
   ]
  },
  {
   "cell_type": "code",
   "execution_count": 3,
   "id": "95eeaf42",
   "metadata": {
    "execution": {
     "iopub.execute_input": "2022-03-09T01:48:58.377963Z",
     "iopub.status.busy": "2022-03-09T01:48:58.377256Z",
     "iopub.status.idle": "2022-03-09T01:48:58.380419Z",
     "shell.execute_reply": "2022-03-09T01:48:58.380803Z",
     "shell.execute_reply.started": "2022-03-09T01:38:28.261980Z"
    },
    "papermill": {
     "duration": 0.021925,
     "end_time": "2022-03-09T01:48:58.380957",
     "exception": false,
     "start_time": "2022-03-09T01:48:58.359032",
     "status": "completed"
    },
    "tags": []
   },
   "outputs": [],
   "source": [
    "import os"
   ]
  },
  {
   "cell_type": "markdown",
   "id": "ecbdb192",
   "metadata": {
    "papermill": {
     "duration": 0.014913,
     "end_time": "2022-03-09T01:48:58.408686",
     "exception": false,
     "start_time": "2022-03-09T01:48:58.393773",
     "status": "completed"
    },
    "tags": []
   },
   "source": [
    "# Training dataframe"
   ]
  },
  {
   "cell_type": "code",
   "execution_count": 4,
   "id": "18bed08f",
   "metadata": {
    "execution": {
     "iopub.execute_input": "2022-03-09T01:48:58.444141Z",
     "iopub.status.busy": "2022-03-09T01:48:58.440254Z",
     "iopub.status.idle": "2022-03-09T01:48:58.557225Z",
     "shell.execute_reply": "2022-03-09T01:48:58.557668Z",
     "shell.execute_reply.started": "2022-03-09T01:38:28.268374Z"
    },
    "papermill": {
     "duration": 0.135276,
     "end_time": "2022-03-09T01:48:58.557818",
     "exception": false,
     "start_time": "2022-03-09T01:48:58.422542",
     "status": "completed"
    },
    "tags": []
   },
   "outputs": [],
   "source": [
    "train_df = pd.read_csv('../input/happy-whale-and-dolphin/train.csv')"
   ]
  },
  {
   "cell_type": "code",
   "execution_count": 5,
   "id": "648d7919",
   "metadata": {
    "execution": {
     "iopub.execute_input": "2022-03-09T01:48:58.583696Z",
     "iopub.status.busy": "2022-03-09T01:48:58.583223Z",
     "iopub.status.idle": "2022-03-09T01:48:58.600267Z",
     "shell.execute_reply": "2022-03-09T01:48:58.599819Z",
     "shell.execute_reply.started": "2022-03-09T01:38:28.383704Z"
    },
    "papermill": {
     "duration": 0.03072,
     "end_time": "2022-03-09T01:48:58.600404",
     "exception": false,
     "start_time": "2022-03-09T01:48:58.569684",
     "status": "completed"
    },
    "tags": []
   },
   "outputs": [
    {
     "data": {
      "text/html": [
       "<div>\n",
       "<style scoped>\n",
       "    .dataframe tbody tr th:only-of-type {\n",
       "        vertical-align: middle;\n",
       "    }\n",
       "\n",
       "    .dataframe tbody tr th {\n",
       "        vertical-align: top;\n",
       "    }\n",
       "\n",
       "    .dataframe thead th {\n",
       "        text-align: right;\n",
       "    }\n",
       "</style>\n",
       "<table border=\"1\" class=\"dataframe\">\n",
       "  <thead>\n",
       "    <tr style=\"text-align: right;\">\n",
       "      <th></th>\n",
       "      <th>image</th>\n",
       "      <th>species</th>\n",
       "      <th>individual_id</th>\n",
       "    </tr>\n",
       "  </thead>\n",
       "  <tbody>\n",
       "    <tr>\n",
       "      <th>0</th>\n",
       "      <td>00021adfb725ed.jpg</td>\n",
       "      <td>melon_headed_whale</td>\n",
       "      <td>cadddb1636b9</td>\n",
       "    </tr>\n",
       "    <tr>\n",
       "      <th>1</th>\n",
       "      <td>000562241d384d.jpg</td>\n",
       "      <td>humpback_whale</td>\n",
       "      <td>1a71fbb72250</td>\n",
       "    </tr>\n",
       "    <tr>\n",
       "      <th>2</th>\n",
       "      <td>0007c33415ce37.jpg</td>\n",
       "      <td>false_killer_whale</td>\n",
       "      <td>60008f293a2b</td>\n",
       "    </tr>\n",
       "    <tr>\n",
       "      <th>3</th>\n",
       "      <td>0007d9bca26a99.jpg</td>\n",
       "      <td>bottlenose_dolphin</td>\n",
       "      <td>4b00fe572063</td>\n",
       "    </tr>\n",
       "    <tr>\n",
       "      <th>4</th>\n",
       "      <td>00087baf5cef7a.jpg</td>\n",
       "      <td>humpback_whale</td>\n",
       "      <td>8e5253662392</td>\n",
       "    </tr>\n",
       "  </tbody>\n",
       "</table>\n",
       "</div>"
      ],
      "text/plain": [
       "                image             species individual_id\n",
       "0  00021adfb725ed.jpg  melon_headed_whale  cadddb1636b9\n",
       "1  000562241d384d.jpg      humpback_whale  1a71fbb72250\n",
       "2  0007c33415ce37.jpg  false_killer_whale  60008f293a2b\n",
       "3  0007d9bca26a99.jpg  bottlenose_dolphin  4b00fe572063\n",
       "4  00087baf5cef7a.jpg      humpback_whale  8e5253662392"
      ]
     },
     "execution_count": 5,
     "metadata": {},
     "output_type": "execute_result"
    }
   ],
   "source": [
    "train_df.head()"
   ]
  },
  {
   "cell_type": "markdown",
   "id": "3dbe0608",
   "metadata": {
    "papermill": {
     "duration": 0.011619,
     "end_time": "2022-03-09T01:48:58.624161",
     "exception": false,
     "start_time": "2022-03-09T01:48:58.612542",
     "status": "completed"
    },
    "tags": []
   },
   "source": [
    "# Information on species and individuals"
   ]
  },
  {
   "cell_type": "markdown",
   "id": "0fd937d0",
   "metadata": {
    "papermill": {
     "duration": 0.01166,
     "end_time": "2022-03-09T01:48:58.647668",
     "exception": false,
     "start_time": "2022-03-09T01:48:58.636008",
     "status": "completed"
    },
    "tags": []
   },
   "source": [
    "The species names and how many of each there is the dataset."
   ]
  },
  {
   "cell_type": "code",
   "execution_count": 6,
   "id": "b78798d6",
   "metadata": {
    "execution": {
     "iopub.execute_input": "2022-03-09T01:48:58.674331Z",
     "iopub.status.busy": "2022-03-09T01:48:58.673693Z",
     "iopub.status.idle": "2022-03-09T01:48:58.697327Z",
     "shell.execute_reply": "2022-03-09T01:48:58.697849Z",
     "shell.execute_reply.started": "2022-03-09T01:38:28.405898Z"
    },
    "papermill": {
     "duration": 0.038371,
     "end_time": "2022-03-09T01:48:58.698038",
     "exception": false,
     "start_time": "2022-03-09T01:48:58.659667",
     "status": "completed"
    },
    "tags": []
   },
   "outputs": [
    {
     "data": {
      "text/plain": [
       "species\n",
       "beluga                       7443\n",
       "blue_whale                   4830\n",
       "bottlenose_dolphin           9664\n",
       "bottlenose_dolpin            1117\n",
       "brydes_whale                  154\n",
       "commersons_dolphin             90\n",
       "common_dolphin                347\n",
       "cuviers_beaked_whale          341\n",
       "dusky_dolphin                3139\n",
       "false_killer_whale           3326\n",
       "fin_whale                    1324\n",
       "frasiers_dolphin               14\n",
       "globis                        116\n",
       "gray_whale                   1123\n",
       "humpback_whale               7392\n",
       "kiler_whale                   962\n",
       "killer_whale                 1493\n",
       "long_finned_pilot_whale       238\n",
       "melon_headed_whale           1689\n",
       "minke_whale                  1608\n",
       "pantropic_spotted_dolphin     145\n",
       "pilot_whale                   262\n",
       "pygmy_killer_whale             76\n",
       "rough_toothed_dolphin          60\n",
       "sei_whale                     428\n",
       "short_finned_pilot_whale      367\n",
       "southern_right_whale          866\n",
       "spinner_dolphin              1700\n",
       "spotted_dolphin               490\n",
       "white_sided_dolphin           229\n",
       "Name: species, dtype: int64"
      ]
     },
     "execution_count": 6,
     "metadata": {},
     "output_type": "execute_result"
    }
   ],
   "source": [
    "train_df.species.groupby(train_df.species).count()"
   ]
  },
  {
   "cell_type": "code",
   "execution_count": 7,
   "id": "324cabc3",
   "metadata": {
    "execution": {
     "iopub.execute_input": "2022-03-09T01:48:58.742955Z",
     "iopub.status.busy": "2022-03-09T01:48:58.738833Z",
     "iopub.status.idle": "2022-03-09T01:48:58.750320Z",
     "shell.execute_reply": "2022-03-09T01:48:58.750782Z",
     "shell.execute_reply.started": "2022-03-09T01:38:28.433276Z"
    },
    "papermill": {
     "duration": 0.033672,
     "end_time": "2022-03-09T01:48:58.750927",
     "exception": false,
     "start_time": "2022-03-09T01:48:58.717255",
     "status": "completed"
    },
    "tags": []
   },
   "outputs": [
    {
     "name": "stdout",
     "output_type": "stream",
     "text": [
      "Number of species: 30\n"
     ]
    }
   ],
   "source": [
    "num_species = train_df.species.groupby(train_df.species).count().nunique()\n",
    "print('Number of species:', num_species)"
   ]
  },
  {
   "cell_type": "markdown",
   "id": "a0e2421e",
   "metadata": {
    "papermill": {
     "duration": 0.012392,
     "end_time": "2022-03-09T01:48:58.776062",
     "exception": false,
     "start_time": "2022-03-09T01:48:58.763670",
     "status": "completed"
    },
    "tags": []
   },
   "source": [
    "As we can see above, there are some misspelled species names. Therefore, a replacement must be taken into account.\n",
    "The issue was also identified by another Kaggler, [Aleksey Alekssev](https://www.kaggle.com/c/happy-whale-and-dolphin/discussion/305574)."
   ]
  },
  {
   "cell_type": "code",
   "execution_count": 8,
   "id": "e5c69145",
   "metadata": {
    "execution": {
     "iopub.execute_input": "2022-03-09T01:48:58.803746Z",
     "iopub.status.busy": "2022-03-09T01:48:58.803292Z",
     "iopub.status.idle": "2022-03-09T01:48:58.837786Z",
     "shell.execute_reply": "2022-03-09T01:48:58.838225Z",
     "shell.execute_reply.started": "2022-03-09T01:38:28.453799Z"
    },
    "papermill": {
     "duration": 0.049874,
     "end_time": "2022-03-09T01:48:58.838355",
     "exception": false,
     "start_time": "2022-03-09T01:48:58.788481",
     "status": "completed"
    },
    "tags": []
   },
   "outputs": [
    {
     "data": {
      "text/plain": [
       "species\n",
       "beluga                        7443\n",
       "blue_whale                    4830\n",
       "bottlenose_dolphin           10781\n",
       "brydes_whale                   154\n",
       "commersons_dolphin              90\n",
       "common_dolphin                 347\n",
       "cuviers_beaked_whale           341\n",
       "dusky_dolphin                 3139\n",
       "false_killer_whale            3326\n",
       "fin_whale                     1324\n",
       "frasiers_dolphin                14\n",
       "gray_whale                    1123\n",
       "humpback_whale                7392\n",
       "killer_whale                  2455\n",
       "long_finned_pilot_whale        238\n",
       "melon_headed_whale            1689\n",
       "minke_whale                   1608\n",
       "pantropic_spotted_dolphin      145\n",
       "pygmy_killer_whale              76\n",
       "rough_toothed_dolphin           60\n",
       "sei_whale                      428\n",
       "short_finned_pilot_whale       745\n",
       "southern_right_whale           866\n",
       "spinner_dolphin               1700\n",
       "spotted_dolphin                490\n",
       "white_sided_dolphin            229\n",
       "Name: species, dtype: int64"
      ]
     },
     "execution_count": 8,
     "metadata": {},
     "output_type": "execute_result"
    }
   ],
   "source": [
    "# from Aleksey Alekssev\n",
    "replacement_data = {'globis': 'short_finned_pilot_whale',\n",
    "                    'pilot_whale': 'short_finned_pilot_whale',\n",
    "                    'kiler_whale': 'killer_whale',\n",
    "                    'bottlenose_dolpin': 'bottlenose_dolphin'}\n",
    "\n",
    "train_df.species.replace(replacement_data, inplace=True)\n",
    "\n",
    "train_df.species.groupby(train_df.species).count()"
   ]
  },
  {
   "cell_type": "code",
   "execution_count": 9,
   "id": "6cb59fb1",
   "metadata": {
    "execution": {
     "iopub.execute_input": "2022-03-09T01:48:58.867057Z",
     "iopub.status.busy": "2022-03-09T01:48:58.866596Z",
     "iopub.status.idle": "2022-03-09T01:48:58.878910Z",
     "shell.execute_reply": "2022-03-09T01:48:58.879341Z",
     "shell.execute_reply.started": "2022-03-09T01:38:28.493619Z"
    },
    "papermill": {
     "duration": 0.028274,
     "end_time": "2022-03-09T01:48:58.879506",
     "exception": false,
     "start_time": "2022-03-09T01:48:58.851232",
     "status": "completed"
    },
    "tags": []
   },
   "outputs": [
    {
     "name": "stdout",
     "output_type": "stream",
     "text": [
      "Number of species: 26\n"
     ]
    }
   ],
   "source": [
    "num_species = train_df.species.groupby(train_df.species).count().nunique()\n",
    "print('Number of species:', num_species)"
   ]
  },
  {
   "cell_type": "code",
   "execution_count": 10,
   "id": "10889f24",
   "metadata": {
    "execution": {
     "iopub.execute_input": "2022-03-09T01:48:58.909983Z",
     "iopub.status.busy": "2022-03-09T01:48:58.909475Z",
     "iopub.status.idle": "2022-03-09T01:48:59.247745Z",
     "shell.execute_reply": "2022-03-09T01:48:59.247239Z",
     "shell.execute_reply.started": "2022-03-09T01:38:28.514735Z"
    },
    "papermill": {
     "duration": 0.354459,
     "end_time": "2022-03-09T01:48:59.247852",
     "exception": false,
     "start_time": "2022-03-09T01:48:58.893393",
     "status": "completed"
    },
    "tags": []
   },
   "outputs": [
    {
     "data": {
      "text/plain": [
       "<AxesSubplot:>"
      ]
     },
     "execution_count": 10,
     "metadata": {},
     "output_type": "execute_result"
    },
    {
     "data": {
      "image/png": "[encoded data removed]",
      "text/plain": [
       "<Figure size 720x432 with 1 Axes>"
      ]
     },
     "metadata": {
      "needs_background": "light"
     },
     "output_type": "display_data"
    }
   ],
   "source": [
    "plt.figure(figsize=(10, 6))\n",
    "train_df.species.value_counts().sort_values(ascending=True).plot(kind='barh')"
   ]
  },
  {
   "cell_type": "code",
   "execution_count": 11,
   "id": "07ec8bd1",
   "metadata": {
    "execution": {
     "iopub.execute_input": "2022-03-09T01:48:59.293883Z",
     "iopub.status.busy": "2022-03-09T01:48:59.293393Z",
     "iopub.status.idle": "2022-03-09T01:48:59.316815Z",
     "shell.execute_reply": "2022-03-09T01:48:59.316353Z",
     "shell.execute_reply.started": "2022-03-09T01:38:28.951365Z"
    },
    "papermill": {
     "duration": 0.050704,
     "end_time": "2022-03-09T01:48:59.316946",
     "exception": false,
     "start_time": "2022-03-09T01:48:59.266242",
     "status": "completed"
    },
    "tags": []
   },
   "outputs": [
    {
     "data": {
      "text/plain": [
       "individual_id\n",
       "0013f1f5f2f0    1\n",
       "001618e0a31e    1\n",
       "0018a0f40586    1\n",
       "00191b9a2f6f    1\n",
       "001a09e48b2d    4\n",
       "               ..\n",
       "fff35b58c591    1\n",
       "fff591b41cce    4\n",
       "fffb11ff4575    4\n",
       "fffe15363b92    1\n",
       "ffff6255f559    2\n",
       "Name: individual_id, Length: 15587, dtype: int64"
      ]
     },
     "execution_count": 11,
     "metadata": {},
     "output_type": "execute_result"
    }
   ],
   "source": [
    "train_df.individual_id.groupby(train_df.individual_id).count()"
   ]
  }
 ],
 "metadata": {
  "kernelspec": {
   "display_name": "Python 3",
   "language": "python",
   "name": "python3"
  },
  "language_info": {
   "codemirror_mode": {
    "name": "ipython",
    "version": 3
   },
   "file_extension": ".py",
   "mimetype": "text/x-python",
   "name": "python",
   "nbconvert_exporter": "python",
   "pygments_lexer": "ipython3",
   "version": "3.7.12"
  },
  "papermill": {
   "default_parameters": {},
   "duration": 11.526018,
   "end_time": "2022-03-09T01:49:00.243098",
   "environment_variables": {},
   "exception": null,
   "input_path": "__notebook__.ipynb",
   "output_path": "__notebook__.ipynb",
   "parameters": {},
   "start_time": "2022-03-09T01:48:48.717080",
   "version": "2.3.3"
  }
 },
 "nbformat": 4,
 "nbformat_minor": 5
}
