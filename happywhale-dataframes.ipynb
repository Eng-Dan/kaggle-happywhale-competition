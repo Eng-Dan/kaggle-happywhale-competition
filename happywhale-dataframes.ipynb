{
 "cells": [
  {
   "cell_type": "markdown",
   "id": "ce7a338a",
   "metadata": {
    "papermill": {
     "duration": 0.021371,
     "end_time": "2022-03-18T16:46:56.836604",
     "exception": false,
     "start_time": "2022-03-18T16:46:56.815233",
     "status": "completed"
    },
    "tags": []
   },
   "source": [
    "[![Kaggle](https://kaggle.com/static/images/open-in-kaggle.svg)](https://kaggle.com/kernels/welcome?src=https://github.com/Eng-Dan/kaggle-happywhale-competition/blob/master/happywhale-dataframes.ipynb)\n",
    "\n",
    "# Context\n",
    "This notebook generates two .csv files to use as input data for the happywhale 2022 competition.\n",
    "* simplified_train.csv\n",
    "* simplified_test.csv\n",
    "\n",
    "The files contains the arrays retrieved from the resized train and test images dataset [Happywhale 2022 competition - Images 256 by 256](https://www.kaggle.com/datasets/engdan/happywhale-images-256-by-256).\n",
    "\n",
    "The image arrays have been set to grayscale color map in order o reduce the size of the file. Thus, if your model should work with colored images, consider to use the original images from the competition.\n",
    "\n"
   ]
  },
  {
   "cell_type": "markdown",
   "id": "58fafca3",
   "metadata": {
    "papermill": {
     "duration": 0.019845,
     "end_time": "2022-03-18T16:46:56.878408",
     "exception": false,
     "start_time": "2022-03-18T16:46:56.858563",
     "status": "completed"
    },
    "tags": []
   },
   "source": [
    "# Packages and libraries"
   ]
  },
  {
   "cell_type": "markdown",
   "id": "d8b4efba",
   "metadata": {
    "papermill": {
     "duration": 0.020237,
     "end_time": "2022-03-18T16:46:56.918705",
     "exception": false,
     "start_time": "2022-03-18T16:46:56.898468",
     "status": "completed"
    },
    "tags": []
   },
   "source": []
  },
  {
   "cell_type": "code",
   "execution_count": 1,
   "id": "ccfadbba",
   "metadata": {
    "execution": {
     "iopub.execute_input": "2022-03-18T16:46:56.968892Z",
     "iopub.status.busy": "2022-03-18T16:46:56.967982Z",
     "iopub.status.idle": "2022-03-18T16:46:57.318772Z",
     "shell.execute_reply": "2022-03-18T16:46:57.319330Z"
    },
    "papermill": {
     "duration": 0.380601,
     "end_time": "2022-03-18T16:46:57.319724",
     "exception": false,
     "start_time": "2022-03-18T16:46:56.939123",
     "status": "completed"
    },
    "tags": []
   },
   "outputs": [],
   "source": [
    "import os\n",
    "import cv2\n",
    "import pandas as pd # data processing, CSV file I/O (e.g. pd.read_csv)\n",
    "import matplotlib.pyplot as plt\n",
    "# Input data files are available in the read-only \"../input/\" directory\n",
    "# You can write up to 20GB to the current directory (/kaggle/working/) that gets preserved as output when you create a version using \"Save & Run All\" \n",
    "# You can also write temporary files to /kaggle/temp/, but they won't be saved outside of the current session"
   ]
  },
  {
   "cell_type": "markdown",
   "id": "07b7b665",
   "metadata": {
    "papermill": {
     "duration": 0.019914,
     "end_time": "2022-03-18T16:46:57.360388",
     "exception": false,
     "start_time": "2022-03-18T16:46:57.340474",
     "status": "completed"
    },
    "tags": []
   },
   "source": [
    "# Directory path variables"
   ]
  },
  {
   "cell_type": "code",
   "execution_count": 2,
   "id": "2749ae0b",
   "metadata": {
    "execution": {
     "iopub.execute_input": "2022-03-18T16:46:57.406598Z",
     "iopub.status.busy": "2022-03-18T16:46:57.405878Z",
     "iopub.status.idle": "2022-03-18T16:46:57.408492Z",
     "shell.execute_reply": "2022-03-18T16:46:57.407969Z",
     "shell.execute_reply.started": "2022-03-18T15:10:24.541294Z"
    },
    "papermill": {
     "duration": 0.027985,
     "end_time": "2022-03-18T16:46:57.408656",
     "exception": false,
     "start_time": "2022-03-18T16:46:57.380671",
     "status": "completed"
    },
    "tags": []
   },
   "outputs": [],
   "source": [
    "TRAIN_IMAGES_DIR = '../input/happywhale-images-256-by-256/resized_train_images'\n",
    "TEST_IMAGES_DIR = '../input/happywhale-images-256-by-256/resized_test_images'"
   ]
  },
  {
   "cell_type": "markdown",
   "id": "aeccd67f",
   "metadata": {
    "papermill": {
     "duration": 0.019791,
     "end_time": "2022-03-18T16:46:57.448658",
     "exception": false,
     "start_time": "2022-03-18T16:46:57.428867",
     "status": "completed"
    },
    "tags": []
   },
   "source": [
    "# Working dataframes"
   ]
  },
  {
   "cell_type": "code",
   "execution_count": 3,
   "id": "9f07e001",
   "metadata": {
    "execution": {
     "iopub.execute_input": "2022-03-18T16:46:57.494429Z",
     "iopub.status.busy": "2022-03-18T16:46:57.493697Z",
     "iopub.status.idle": "2022-03-18T16:46:57.495950Z",
     "shell.execute_reply": "2022-03-18T16:46:57.496527Z",
     "shell.execute_reply.started": "2022-03-18T15:10:24.549263Z"
    },
    "papermill": {
     "duration": 0.02795,
     "end_time": "2022-03-18T16:46:57.496712",
     "exception": false,
     "start_time": "2022-03-18T16:46:57.468762",
     "status": "completed"
    },
    "tags": []
   },
   "outputs": [],
   "source": [
    "train_dataset_csv = '../input/happy-whale-and-dolphin/train.csv'\n",
    "sample_submission_csv = '../input/happy-whale-and-dolphin/sample_submission.csv'"
   ]
  },
  {
   "cell_type": "code",
   "execution_count": 4,
   "id": "c2f2327b",
   "metadata": {
    "execution": {
     "iopub.execute_input": "2022-03-18T16:46:57.541547Z",
     "iopub.status.busy": "2022-03-18T16:46:57.540917Z",
     "iopub.status.idle": "2022-03-18T16:46:57.705059Z",
     "shell.execute_reply": "2022-03-18T16:46:57.704438Z",
     "shell.execute_reply.started": "2022-03-18T15:10:24.570111Z"
    },
    "papermill": {
     "duration": 0.188303,
     "end_time": "2022-03-18T16:46:57.705254",
     "exception": false,
     "start_time": "2022-03-18T16:46:57.516951",
     "status": "completed"
    },
    "tags": []
   },
   "outputs": [],
   "source": [
    "train_df = pd.read_csv(train_dataset_csv)\n",
    "test_df = pd.read_csv(sample_submission_csv)"
   ]
  },
  {
   "cell_type": "code",
   "execution_count": 5,
   "id": "6d7034f4",
   "metadata": {
    "execution": {
     "iopub.execute_input": "2022-03-18T16:46:57.756776Z",
     "iopub.status.busy": "2022-03-18T16:46:57.756092Z",
     "iopub.status.idle": "2022-03-18T16:46:57.769958Z",
     "shell.execute_reply": "2022-03-18T16:46:57.770469Z",
     "shell.execute_reply.started": "2022-03-18T15:10:24.744963Z"
    },
    "papermill": {
     "duration": 0.044194,
     "end_time": "2022-03-18T16:46:57.770666",
     "exception": false,
     "start_time": "2022-03-18T16:46:57.726472",
     "status": "completed"
    },
    "tags": []
   },
   "outputs": [
    {
     "data": {
      "text/html": [
       "<div>\n",
       "<style scoped>\n",
       "    .dataframe tbody tr th:only-of-type {\n",
       "        vertical-align: middle;\n",
       "    }\n",
       "\n",
       "    .dataframe tbody tr th {\n",
       "        vertical-align: top;\n",
       "    }\n",
       "\n",
       "    .dataframe thead th {\n",
       "        text-align: right;\n",
       "    }\n",
       "</style>\n",
       "<table border=\"1\" class=\"dataframe\">\n",
       "  <thead>\n",
       "    <tr style=\"text-align: right;\">\n",
       "      <th></th>\n",
       "      <th>image</th>\n",
       "      <th>species</th>\n",
       "      <th>individual_id</th>\n",
       "    </tr>\n",
       "  </thead>\n",
       "  <tbody>\n",
       "    <tr>\n",
       "      <th>0</th>\n",
       "      <td>00021adfb725ed.jpg</td>\n",
       "      <td>melon_headed_whale</td>\n",
       "      <td>cadddb1636b9</td>\n",
       "    </tr>\n",
       "    <tr>\n",
       "      <th>1</th>\n",
       "      <td>000562241d384d.jpg</td>\n",
       "      <td>humpback_whale</td>\n",
       "      <td>1a71fbb72250</td>\n",
       "    </tr>\n",
       "    <tr>\n",
       "      <th>2</th>\n",
       "      <td>0007c33415ce37.jpg</td>\n",
       "      <td>false_killer_whale</td>\n",
       "      <td>60008f293a2b</td>\n",
       "    </tr>\n",
       "    <tr>\n",
       "      <th>3</th>\n",
       "      <td>0007d9bca26a99.jpg</td>\n",
       "      <td>bottlenose_dolphin</td>\n",
       "      <td>4b00fe572063</td>\n",
       "    </tr>\n",
       "    <tr>\n",
       "      <th>4</th>\n",
       "      <td>00087baf5cef7a.jpg</td>\n",
       "      <td>humpback_whale</td>\n",
       "      <td>8e5253662392</td>\n",
       "    </tr>\n",
       "  </tbody>\n",
       "</table>\n",
       "</div>"
      ],
      "text/plain": [
       "                image             species individual_id\n",
       "0  00021adfb725ed.jpg  melon_headed_whale  cadddb1636b9\n",
       "1  000562241d384d.jpg      humpback_whale  1a71fbb72250\n",
       "2  0007c33415ce37.jpg  false_killer_whale  60008f293a2b\n",
       "3  0007d9bca26a99.jpg  bottlenose_dolphin  4b00fe572063\n",
       "4  00087baf5cef7a.jpg      humpback_whale  8e5253662392"
      ]
     },
     "execution_count": 5,
     "metadata": {},
     "output_type": "execute_result"
    }
   ],
   "source": [
    "train_df.head(5)"
   ]
  },
  {
   "cell_type": "code",
   "execution_count": 6,
   "id": "0491ec33",
   "metadata": {
    "execution": {
     "iopub.execute_input": "2022-03-18T16:46:57.824373Z",
     "iopub.status.busy": "2022-03-18T16:46:57.823645Z",
     "iopub.status.idle": "2022-03-18T16:46:57.827606Z",
     "shell.execute_reply": "2022-03-18T16:46:57.827057Z",
     "shell.execute_reply.started": "2022-03-18T15:10:24.765587Z"
    },
    "papermill": {
     "duration": 0.035701,
     "end_time": "2022-03-18T16:46:57.827765",
     "exception": false,
     "start_time": "2022-03-18T16:46:57.792064",
     "status": "completed"
    },
    "tags": []
   },
   "outputs": [
    {
     "data": {
      "text/html": [
       "<div>\n",
       "<style scoped>\n",
       "    .dataframe tbody tr th:only-of-type {\n",
       "        vertical-align: middle;\n",
       "    }\n",
       "\n",
       "    .dataframe tbody tr th {\n",
       "        vertical-align: top;\n",
       "    }\n",
       "\n",
       "    .dataframe thead th {\n",
       "        text-align: right;\n",
       "    }\n",
       "</style>\n",
       "<table border=\"1\" class=\"dataframe\">\n",
       "  <thead>\n",
       "    <tr style=\"text-align: right;\">\n",
       "      <th></th>\n",
       "      <th>image</th>\n",
       "      <th>predictions</th>\n",
       "    </tr>\n",
       "  </thead>\n",
       "  <tbody>\n",
       "    <tr>\n",
       "      <th>0</th>\n",
       "      <td>000110707af0ba.jpg</td>\n",
       "      <td>37c7aba965a5 114207cab555 a6e325d8e924 19fbb96...</td>\n",
       "    </tr>\n",
       "    <tr>\n",
       "      <th>1</th>\n",
       "      <td>0006287ec424cb.jpg</td>\n",
       "      <td>37c7aba965a5 114207cab555 a6e325d8e924 19fbb96...</td>\n",
       "    </tr>\n",
       "    <tr>\n",
       "      <th>2</th>\n",
       "      <td>000809ecb2ccad.jpg</td>\n",
       "      <td>37c7aba965a5 114207cab555 a6e325d8e924 19fbb96...</td>\n",
       "    </tr>\n",
       "    <tr>\n",
       "      <th>3</th>\n",
       "      <td>00098d1376dab2.jpg</td>\n",
       "      <td>37c7aba965a5 114207cab555 a6e325d8e924 19fbb96...</td>\n",
       "    </tr>\n",
       "    <tr>\n",
       "      <th>4</th>\n",
       "      <td>000b8d89c738bd.jpg</td>\n",
       "      <td>37c7aba965a5 114207cab555 a6e325d8e924 19fbb96...</td>\n",
       "    </tr>\n",
       "  </tbody>\n",
       "</table>\n",
       "</div>"
      ],
      "text/plain": [
       "                image                                        predictions\n",
       "0  000110707af0ba.jpg  37c7aba965a5 114207cab555 a6e325d8e924 19fbb96...\n",
       "1  0006287ec424cb.jpg  37c7aba965a5 114207cab555 a6e325d8e924 19fbb96...\n",
       "2  000809ecb2ccad.jpg  37c7aba965a5 114207cab555 a6e325d8e924 19fbb96...\n",
       "3  00098d1376dab2.jpg  37c7aba965a5 114207cab555 a6e325d8e924 19fbb96...\n",
       "4  000b8d89c738bd.jpg  37c7aba965a5 114207cab555 a6e325d8e924 19fbb96..."
      ]
     },
     "execution_count": 6,
     "metadata": {},
     "output_type": "execute_result"
    }
   ],
   "source": [
    "test_df.head(5)"
   ]
  },
  {
   "cell_type": "markdown",
   "id": "0f438460",
   "metadata": {
    "papermill": {
     "duration": 0.021083,
     "end_time": "2022-03-18T16:46:57.870337",
     "exception": false,
     "start_time": "2022-03-18T16:46:57.849254",
     "status": "completed"
    },
    "tags": []
   },
   "source": [
    "# Retrieving the images array"
   ]
  },
  {
   "cell_type": "markdown",
   "id": "f544c71a",
   "metadata": {
    "papermill": {
     "duration": 0.021172,
     "end_time": "2022-03-18T16:46:57.913390",
     "exception": false,
     "start_time": "2022-03-18T16:46:57.892218",
     "status": "completed"
    },
    "tags": []
   },
   "source": [
    "The function bellow will add the `image_array` column to the required dataframes."
   ]
  },
  {
   "cell_type": "code",
   "execution_count": 7,
   "id": "231d2d1c",
   "metadata": {
    "execution": {
     "iopub.execute_input": "2022-03-18T16:46:57.965837Z",
     "iopub.status.busy": "2022-03-18T16:46:57.965140Z",
     "iopub.status.idle": "2022-03-18T16:46:57.967387Z",
     "shell.execute_reply": "2022-03-18T16:46:57.967975Z",
     "shell.execute_reply.started": "2022-03-18T15:10:24.777142Z"
    },
    "papermill": {
     "duration": 0.033082,
     "end_time": "2022-03-18T16:46:57.968184",
     "exception": false,
     "start_time": "2022-03-18T16:46:57.935102",
     "status": "completed"
    },
    "tags": []
   },
   "outputs": [],
   "source": [
    "def add_image_array_column(dataframe, images_source_dir):\n",
    "    images_array = []\n",
    "    num_images = dataframe['image'].size\n",
    "    print('Process started...')\n",
    "    for index in range(num_images):\n",
    "        images_array.append(cv2.imread(os.path.join(images_source_dir, dataframe['image'].iloc[index]),\n",
    "                                       cv2.IMREAD_GRAYSCALE))\n",
    "    \n",
    "        if (index % 2000) == 0:\n",
    "            print('Images array added:', index, 'of', num_images)\n",
    "\n",
    "    dataframe['image_array'] = images_array\n",
    "    print('Process finished.')"
   ]
  },
  {
   "cell_type": "markdown",
   "id": "da663155",
   "metadata": {
    "papermill": {
     "duration": 0.02117,
     "end_time": "2022-03-18T16:46:58.011072",
     "exception": false,
     "start_time": "2022-03-18T16:46:57.989902",
     "status": "completed"
    },
    "tags": []
   },
   "source": [
    "First, lets apply the function to the `train_df`."
   ]
  },
  {
   "cell_type": "code",
   "execution_count": 8,
   "id": "ffb6f4e3",
   "metadata": {
    "_kg_hide-output": true,
    "execution": {
     "iopub.execute_input": "2022-03-18T16:46:58.063291Z",
     "iopub.status.busy": "2022-03-18T16:46:58.062608Z",
     "iopub.status.idle": "2022-03-18T16:55:07.001685Z",
     "shell.execute_reply": "2022-03-18T16:55:07.002197Z",
     "shell.execute_reply.started": "2022-03-18T15:10:24.790522Z"
    },
    "papermill": {
     "duration": 488.968869,
     "end_time": "2022-03-18T16:55:07.002429",
     "exception": false,
     "start_time": "2022-03-18T16:46:58.033560",
     "status": "completed"
    },
    "tags": []
   },
   "outputs": [
    {
     "name": "stdout",
     "output_type": "stream",
     "text": [
      "Process started...\n",
      "Images array added: 0 of 51033\n",
      "Images array added: 2000 of 51033\n",
      "Images array added: 4000 of 51033\n",
      "Images array added: 6000 of 51033\n",
      "Images array added: 8000 of 51033\n",
      "Images array added: 10000 of 51033\n",
      "Images array added: 12000 of 51033\n",
      "Images array added: 14000 of 51033\n",
      "Images array added: 16000 of 51033\n",
      "Images array added: 18000 of 51033\n",
      "Images array added: 20000 of 51033\n",
      "Images array added: 22000 of 51033\n",
      "Images array added: 24000 of 51033\n",
      "Images array added: 26000 of 51033\n",
      "Images array added: 28000 of 51033\n",
      "Images array added: 30000 of 51033\n",
      "Images array added: 32000 of 51033\n",
      "Images array added: 34000 of 51033\n",
      "Images array added: 36000 of 51033\n",
      "Images array added: 38000 of 51033\n",
      "Images array added: 40000 of 51033\n",
      "Images array added: 42000 of 51033\n",
      "Images array added: 44000 of 51033\n",
      "Images array added: 46000 of 51033\n",
      "Images array added: 48000 of 51033\n",
      "Images array added: 50000 of 51033\n",
      "Process finished.\n"
     ]
    }
   ],
   "source": [
    "add_image_array_column(train_df, TRAIN_IMAGES_DIR)"
   ]
  },
  {
   "cell_type": "markdown",
   "id": "d6db931f",
   "metadata": {
    "papermill": {
     "duration": 0.032178,
     "end_time": "2022-03-18T16:55:07.068572",
     "exception": false,
     "start_time": "2022-03-18T16:55:07.036394",
     "status": "completed"
    },
    "tags": []
   },
   "source": [
    "Now, checking if all worked as expected."
   ]
  },
  {
   "cell_type": "code",
   "execution_count": 9,
   "id": "8c846cd8",
   "metadata": {
    "execution": {
     "iopub.execute_input": "2022-03-18T16:55:07.146861Z",
     "iopub.status.busy": "2022-03-18T16:55:07.146201Z",
     "iopub.status.idle": "2022-03-18T16:55:07.813741Z",
     "shell.execute_reply": "2022-03-18T16:55:07.813115Z",
     "shell.execute_reply.started": "2022-03-18T15:16:07.030951Z"
    },
    "papermill": {
     "duration": 0.711802,
     "end_time": "2022-03-18T16:55:07.813912",
     "exception": false,
     "start_time": "2022-03-18T16:55:07.102110",
     "status": "completed"
    },
    "tags": []
   },
   "outputs": [
    {
     "data": {
      "text/html": [
       "<div>\n",
       "<style scoped>\n",
       "    .dataframe tbody tr th:only-of-type {\n",
       "        vertical-align: middle;\n",
       "    }\n",
       "\n",
       "    .dataframe tbody tr th {\n",
       "        vertical-align: top;\n",
       "    }\n",
       "\n",
       "    .dataframe thead th {\n",
       "        text-align: right;\n",
       "    }\n",
       "</style>\n",
       "<table border=\"1\" class=\"dataframe\">\n",
       "  <thead>\n",
       "    <tr style=\"text-align: right;\">\n",
       "      <th></th>\n",
       "      <th>image</th>\n",
       "      <th>species</th>\n",
       "      <th>individual_id</th>\n",
       "      <th>image_array</th>\n",
       "    </tr>\n",
       "  </thead>\n",
       "  <tbody>\n",
       "    <tr>\n",
       "      <th>0</th>\n",
       "      <td>00021adfb725ed.jpg</td>\n",
       "      <td>melon_headed_whale</td>\n",
       "      <td>cadddb1636b9</td>\n",
       "      <td>[[115, 116, 115, 121, 123, 129, 131, 136, 137,...</td>\n",
       "    </tr>\n",
       "    <tr>\n",
       "      <th>1</th>\n",
       "      <td>000562241d384d.jpg</td>\n",
       "      <td>humpback_whale</td>\n",
       "      <td>1a71fbb72250</td>\n",
       "      <td>[[183, 185, 187, 180, 181, 190, 190, 190, 194,...</td>\n",
       "    </tr>\n",
       "    <tr>\n",
       "      <th>2</th>\n",
       "      <td>0007c33415ce37.jpg</td>\n",
       "      <td>false_killer_whale</td>\n",
       "      <td>60008f293a2b</td>\n",
       "      <td>[[161, 163, 168, 162, 171, 175, 172, 175, 178,...</td>\n",
       "    </tr>\n",
       "    <tr>\n",
       "      <th>3</th>\n",
       "      <td>0007d9bca26a99.jpg</td>\n",
       "      <td>bottlenose_dolphin</td>\n",
       "      <td>4b00fe572063</td>\n",
       "      <td>[[135, 144, 161, 167, 176, 183, 185, 186, 186,...</td>\n",
       "    </tr>\n",
       "    <tr>\n",
       "      <th>4</th>\n",
       "      <td>00087baf5cef7a.jpg</td>\n",
       "      <td>humpback_whale</td>\n",
       "      <td>8e5253662392</td>\n",
       "      <td>[[89, 77, 83, 76, 78, 84, 73, 75, 92, 77, 70, ...</td>\n",
       "    </tr>\n",
       "  </tbody>\n",
       "</table>\n",
       "</div>"
      ],
      "text/plain": [
       "                image             species individual_id  \\\n",
       "0  00021adfb725ed.jpg  melon_headed_whale  cadddb1636b9   \n",
       "1  000562241d384d.jpg      humpback_whale  1a71fbb72250   \n",
       "2  0007c33415ce37.jpg  false_killer_whale  60008f293a2b   \n",
       "3  0007d9bca26a99.jpg  bottlenose_dolphin  4b00fe572063   \n",
       "4  00087baf5cef7a.jpg      humpback_whale  8e5253662392   \n",
       "\n",
       "                                         image_array  \n",
       "0  [[115, 116, 115, 121, 123, 129, 131, 136, 137,...  \n",
       "1  [[183, 185, 187, 180, 181, 190, 190, 190, 194,...  \n",
       "2  [[161, 163, 168, 162, 171, 175, 172, 175, 178,...  \n",
       "3  [[135, 144, 161, 167, 176, 183, 185, 186, 186,...  \n",
       "4  [[89, 77, 83, 76, 78, 84, 73, 75, 92, 77, 70, ...  "
      ]
     },
     "execution_count": 9,
     "metadata": {},
     "output_type": "execute_result"
    }
   ],
   "source": [
    "train_df.head(5)"
   ]
  },
  {
   "cell_type": "code",
   "execution_count": 10,
   "id": "84f4f16b",
   "metadata": {
    "execution": {
     "iopub.execute_input": "2022-03-18T16:55:07.890216Z",
     "iopub.status.busy": "2022-03-18T16:55:07.886370Z",
     "iopub.status.idle": "2022-03-18T16:55:08.328687Z",
     "shell.execute_reply": "2022-03-18T16:55:08.328153Z",
     "shell.execute_reply.started": "2022-03-18T15:16:49.691684Z"
    },
    "papermill": {
     "duration": 0.48242,
     "end_time": "2022-03-18T16:55:08.328835",
     "exception": false,
     "start_time": "2022-03-18T16:55:07.846415",
     "status": "completed"
    },
    "tags": []
   },
   "outputs": [
    {
     "name": "stdout",
     "output_type": "stream",
     "text": [
      "ef84a0ff56cc5f.jpg\n",
      "humpback_whale\n",
      "1a20c92ffe68 \n",
      "\n"
     ]
    },
    {
     "data": {
      "text/plain": [
       "<matplotlib.image.AxesImage at 0x7f1b85be1150>"
      ]
     },
     "execution_count": 10,
     "metadata": {},
     "output_type": "execute_result"
    },
    {
     "data": {
      "image/png": "[encoded data removed]",
      "text/plain": [
       "<Figure size 432x288 with 1 Axes>"
      ]
     },
     "metadata": {
      "needs_background": "light"
     },
     "output_type": "display_data"
    }
   ],
   "source": [
    "image_check = train_df.iloc[47696]\n",
    "print(image_check.image)\n",
    "print(image_check.species)\n",
    "print(image_check.individual_id, '\\n')\n",
    "plt.imshow(image_check.image_array, cmap='gray')"
   ]
  },
  {
   "cell_type": "markdown",
   "id": "d0892cde",
   "metadata": {
    "papermill": {
     "duration": 0.03609,
     "end_time": "2022-03-18T16:55:08.401014",
     "exception": false,
     "start_time": "2022-03-18T16:55:08.364924",
     "status": "completed"
    },
    "tags": []
   },
   "source": [
    "Finally, applying the same process to the `test_df` (from `sample_submission.csv` file)."
   ]
  },
  {
   "cell_type": "code",
   "execution_count": 11,
   "id": "08b0a022",
   "metadata": {
    "execution": {
     "iopub.execute_input": "2022-03-18T16:55:08.480457Z",
     "iopub.status.busy": "2022-03-18T16:55:08.479667Z",
     "iopub.status.idle": "2022-03-18T16:59:35.552003Z",
     "shell.execute_reply": "2022-03-18T16:59:35.552582Z",
     "shell.execute_reply.started": "2022-03-18T15:26:58.284368Z"
    },
    "papermill": {
     "duration": 267.114592,
     "end_time": "2022-03-18T16:59:35.552977",
     "exception": false,
     "start_time": "2022-03-18T16:55:08.438385",
     "status": "completed"
    },
    "tags": []
   },
   "outputs": [
    {
     "name": "stdout",
     "output_type": "stream",
     "text": [
      "Process started...\n",
      "Images array added: 0 of 27956\n",
      "Images array added: 2000 of 27956\n",
      "Images array added: 4000 of 27956\n",
      "Images array added: 6000 of 27956\n",
      "Images array added: 8000 of 27956\n",
      "Images array added: 10000 of 27956\n",
      "Images array added: 12000 of 27956\n",
      "Images array added: 14000 of 27956\n",
      "Images array added: 16000 of 27956\n",
      "Images array added: 18000 of 27956\n",
      "Images array added: 20000 of 27956\n",
      "Images array added: 22000 of 27956\n",
      "Images array added: 24000 of 27956\n",
      "Images array added: 26000 of 27956\n",
      "Process finished.\n"
     ]
    }
   ],
   "source": [
    "add_image_array_column(test_df, TEST_IMAGES_DIR)"
   ]
  },
  {
   "cell_type": "markdown",
   "id": "ed64a3c3",
   "metadata": {
    "papermill": {
     "duration": 0.040895,
     "end_time": "2022-03-18T16:59:35.634177",
     "exception": false,
     "start_time": "2022-03-18T16:59:35.593282",
     "status": "completed"
    },
    "tags": []
   },
   "source": [
    "# CSV files generation"
   ]
  },
  {
   "cell_type": "code",
   "execution_count": 12,
   "id": "9bb0eba5",
   "metadata": {
    "execution": {
     "iopub.execute_input": "2022-03-18T16:59:35.723599Z",
     "iopub.status.busy": "2022-03-18T16:59:35.722832Z",
     "iopub.status.idle": "2022-03-18T16:59:45.953689Z",
     "shell.execute_reply": "2022-03-18T16:59:45.952921Z",
     "shell.execute_reply.started": "2022-03-18T15:48:09.345493Z"
    },
    "papermill": {
     "duration": 10.278731,
     "end_time": "2022-03-18T16:59:45.953873",
     "exception": false,
     "start_time": "2022-03-18T16:59:35.675142",
     "status": "completed"
    },
    "tags": []
   },
   "outputs": [],
   "source": [
    "train_df.to_csv('simplified_train.csv',index=False)"
   ]
  },
  {
   "cell_type": "code",
   "execution_count": 13,
   "id": "41fd52b4",
   "metadata": {
    "execution": {
     "iopub.execute_input": "2022-03-18T16:59:46.050878Z",
     "iopub.status.busy": "2022-03-18T16:59:46.042875Z",
     "iopub.status.idle": "2022-03-18T16:59:51.606611Z",
     "shell.execute_reply": "2022-03-18T16:59:51.605846Z",
     "shell.execute_reply.started": "2022-03-18T15:48:27.640296Z"
    },
    "papermill": {
     "duration": 5.611489,
     "end_time": "2022-03-18T16:59:51.606778",
     "exception": false,
     "start_time": "2022-03-18T16:59:45.995289",
     "status": "completed"
    },
    "tags": []
   },
   "outputs": [],
   "source": [
    "test_df.to_csv('simplified_test.csv',index=False)"
   ]
  }
 ],
 "metadata": {
  "kernelspec": {
   "display_name": "Python 3",
   "language": "python",
   "name": "python3"
  },
  "language_info": {
   "codemirror_mode": {
    "name": "ipython",
    "version": 3
   },
   "file_extension": ".py",
   "mimetype": "text/x-python",
   "name": "python",
   "nbconvert_exporter": "python",
   "pygments_lexer": "ipython3",
   "version": "3.7.12"
  },
  "papermill": {
   "default_parameters": {},
   "duration": 786.562435,
   "end_time": "2022-03-18T16:59:52.764529",
   "environment_variables": {},
   "exception": null,
   "input_path": "__notebook__.ipynb",
   "output_path": "__notebook__.ipynb",
   "parameters": {},
   "start_time": "2022-03-18T16:46:46.202094",
   "version": "2.3.3"
  }
 },
 "nbformat": 4,
 "nbformat_minor": 5
}
